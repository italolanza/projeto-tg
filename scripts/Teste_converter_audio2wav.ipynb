{
 "cells": [
  {
   "cell_type": "code",
   "execution_count": 29,
   "metadata": {},
   "outputs": [],
   "source": [
    "import soundfile as sf"
   ]
  },
  {
   "cell_type": "code",
   "execution_count": 30,
   "metadata": {},
   "outputs": [],
   "source": [
    "input_file = '../misc/Fault-Detection-using-TinyML-Master/Machines Records/M1_H_S1.flac'\n",
    "# input_file =    ['../misc/Fault-Detection-using-TinyML-Master/Machines Records/M1_H_S1.flac',\n",
    "# '../misc/Fault-Detection-using-TinyML-Master/Machines Records/M1_F1_S1.flac'\n",
    "# '../misc/Fault-Detection-using-TinyML-Master/Machines Records/M1_F2_S1.flac'\n",
    "# '../misc/Fault-Detection-using-TinyML-Master/Machines Records/M1_F3_S1.flac'\n",
    "# '../misc/Fault-Detection-using-TinyML-Master/Machines Records/M1_OFF_S1.flac'\n",
    "#                 ]\n",
    "output_file = 'M1_H_S1.wav'\n",
    "CHANNEL = [0,1]"
   ]
  },
  {
   "cell_type": "code",
   "execution_count": 31,
   "metadata": {},
   "outputs": [],
   "source": [
    "data, sample_rate = sf.read(input_file)   # Healthy condition (Fault_ID2)\n",
    "data = data[19663:, CHANNEL[0]]"
   ]
  },
  {
   "cell_type": "code",
   "execution_count": 32,
   "metadata": {},
   "outputs": [],
   "source": [
    "sf.write(output_file, data, sample_rate, format=\"WAV\")"
   ]
  },
  {
   "cell_type": "code",
   "execution_count": 33,
   "metadata": {},
   "outputs": [],
   "source": [
    "data2, sample_rate = sf.read(output_file)"
   ]
  },
  {
   "cell_type": "code",
   "execution_count": 34,
   "metadata": {},
   "outputs": [
    {
     "name": "stdout",
     "output_type": "stream",
     "text": [
      "<class 'numpy.ndarray'>\n",
      "(2912049,)\n"
     ]
    }
   ],
   "source": [
    "print(type(data2))\n",
    "print(data2.shape)\n"
   ]
  },
  {
   "cell_type": "code",
   "execution_count": 35,
   "metadata": {},
   "outputs": [
    {
     "data": {
      "text/plain": [
       "array([ 3.05175781e-05,  3.05175781e-05,  3.05175781e-05, ...,\n",
       "       -1.35406494e-01, -1.27197266e-01, -1.30310059e-01])"
      ]
     },
     "execution_count": 35,
     "metadata": {},
     "output_type": "execute_result"
    }
   ],
   "source": [
    "data2"
   ]
  }
 ],
 "metadata": {
  "kernelspec": {
   "display_name": "homl3",
   "language": "python",
   "name": "python3"
  },
  "language_info": {
   "codemirror_mode": {
    "name": "ipython",
    "version": 3
   },
   "file_extension": ".py",
   "mimetype": "text/x-python",
   "name": "python",
   "nbconvert_exporter": "python",
   "pygments_lexer": "ipython3",
   "version": "3.1.0"
  },
  "orig_nbformat": 4
 },
 "nbformat": 4,
 "nbformat_minor": 2
}
