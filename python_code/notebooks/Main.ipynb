{
 "cells": [
  {
   "cell_type": "markdown",
   "metadata": {},
   "source": [
    "# Main"
   ]
  },
  {
   "cell_type": "markdown",
   "metadata": {},
   "source": [
    "+  "
   ]
  },
  {
   "cell_type": "code",
   "execution_count": 11,
   "metadata": {},
   "outputs": [],
   "source": [
    "import soundfile as sf\n",
    "import numpy as np\n",
    "from scripts import ExtractFeatures\n",
    "import pandas as pd"
   ]
  },
  {
   "cell_type": "code",
   "execution_count": 2,
   "metadata": {},
   "outputs": [],
   "source": [
    "## Defining Constants\n",
    "BUFFER_LEN = 2048       # Tamanho do buffer utilizado para o calculo da FFT\n",
    "INPUT_AUDIO_CHANNEL = 0 # Seleciona o canal dos arquivos de audio do microfone (0, 1)\n",
    "FAULT_ID_OFF = 1\n",
    "FAULT_ID_HEALTH = 2\n",
    "FAULT_ID_BEARING = 3\n",
    "FAULT_ID_FAN = 4\n",
    "FAULT_ID_GEAR = 5\n"
   ]
  },
  {
   "cell_type": "code",
   "execution_count": 3,
   "metadata": {},
   "outputs": [],
   "source": [
    "## Read Audio Sample\n",
    "Off_Cond_Data, Off_Cond_FS          = sf.read('../misc/Fault-Detection-using-TinyML-Master/Machines Records/M1_OFF_S1.flac') # Off Condition with noise ((Fault_ID1))\n",
    "Health_Cond_Data, Health_Cond_FS    = sf.read('../misc/Fault-Detection-using-TinyML-Master/Machines Records/M1_H_S1.flac')   # Healthy condition (Fault_ID2)\n",
    "Bearing_Cond_Data, Bearing_Cond_FS  = sf.read('../misc/Fault-Detection-using-TinyML-Master/Machines Records/M1_F1_S1.flac')  # Bearing fault (Fault_ID3)\n",
    "Fan_Cond_Data, Fan_Cond_FS          = sf.read('../misc/Fault-Detection-using-TinyML-Master/Machines Records/M1_F2_S1.flac')  # Fan fault (Fault_ID4)\n",
    "Gear_Cond_Data, Gear_Cond_FS        = sf.read('../misc/Fault-Detection-using-TinyML-Master/Machines Records/M1_F3_S1.flac')  # Gear fault (Fault_ID5)"
   ]
  },
  {
   "cell_type": "code",
   "execution_count": 4,
   "metadata": {},
   "outputs": [],
   "source": [
    "## Extracts one channel of the input audio signal and ignore the first 20*BUFFER_LEN samples (no data)\n",
    "Off_Cond_Data      = Off_Cond_Data[(20*BUFFER_LEN)+1:, INPUT_AUDIO_CHANNEL]\n",
    "Health_Cond_Data   = Health_Cond_Data[(20*BUFFER_LEN)+1:, INPUT_AUDIO_CHANNEL]\n",
    "Bearing_Cond_Data  = Bearing_Cond_Data[(20*BUFFER_LEN)+1:, INPUT_AUDIO_CHANNEL]\n",
    "Fan_Cond_Data      = Fan_Cond_Data[(20*BUFFER_LEN)+1:, INPUT_AUDIO_CHANNEL]\n",
    "Gear_Cond_Data     = Gear_Cond_Data[(20*BUFFER_LEN)+1:, INPUT_AUDIO_CHANNEL]"
   ]
  },
  {
   "cell_type": "code",
   "execution_count": 5,
   "metadata": {},
   "outputs": [],
   "source": [
    "# Read the number of sample in each audio data and store data in variable\n",
    "SampleSize_Off_Cond_Data      = Off_Cond_Data.size\n",
    "SampleSize_Health_Cond_Data   = Health_Cond_Data.size\n",
    "SampleSize_Bearing_Cond_Data  = Bearing_Cond_Data.size\n",
    "SampleSize_Fan_Cond_Data      = Fan_Cond_Data.size\n",
    "SampleSize_Gear_Cond_Data     = Gear_Cond_Data.size"
   ]
  },
  {
   "cell_type": "code",
   "execution_count": 6,
   "metadata": {},
   "outputs": [
    {
     "name": "stdout",
     "output_type": "stream",
     "text": [
      "SampleSize_Off_Cond_Data: 2903039\n",
      "SampleSize_Health_Cond_Data: 2890751\n",
      "SampleSize_Bearing_Cond_Data: 2902015\n",
      "SampleSize_Fan_Cond_Data: 2941951\n",
      "SampleSize_Gear_Cond_Data: 2937855\n"
     ]
    }
   ],
   "source": [
    "print(f'SampleSize_Off_Cond_Data: {SampleSize_Off_Cond_Data}')\n",
    "print(f'SampleSize_Health_Cond_Data: {SampleSize_Health_Cond_Data}')\n",
    "print(f'SampleSize_Bearing_Cond_Data: {SampleSize_Bearing_Cond_Data}')\n",
    "print(f'SampleSize_Fan_Cond_Data: {SampleSize_Fan_Cond_Data}')\n",
    "print(f'SampleSize_Gear_Cond_Data: {SampleSize_Gear_Cond_Data}')"
   ]
  },
  {
   "cell_type": "code",
   "execution_count": 7,
   "metadata": {},
   "outputs": [],
   "source": [
    "# Formatando dataset para ter quantidade de amostras em termos do BufferLen\n",
    "\n",
    "## Off Condition with noise (Fault_ID1)\n",
    "re_off = (SampleSize_Off_Cond_Data % BUFFER_LEN) # Quantidade de amostras em termos do BufferLen\n",
    "Off_Cond_Data = Off_Cond_Data[:(SampleSize_Off_Cond_Data - re_off)]\n",
    "NumOfRaw_Off_Cond_Data = (SampleSize_Off_Cond_Data - re_off) / BUFFER_LEN\n",
    "\n",
    "## Health condition (Fault_ID2)\n",
    "re_health = (SampleSize_Health_Cond_Data % BUFFER_LEN)\n",
    "Health_Cond_Data = Health_Cond_Data[:(SampleSize_Health_Cond_Data - re_health)]\n",
    "NumOfRaw_Health_Cond_Data = (SampleSize_Health_Cond_Data - re_health) / BUFFER_LEN\n",
    "\n",
    "## Bearing fault (Fault_ID3)\n",
    "re_bearing = (SampleSize_Bearing_Cond_Data % BUFFER_LEN)\n",
    "Bearing_Cond_Data = Bearing_Cond_Data[:(SampleSize_Bearing_Cond_Data - re_bearing)]\n",
    "NumOfRaw_Bearing_Cond_Data = (SampleSize_Bearing_Cond_Data - re_bearing) / BUFFER_LEN\n",
    "\n",
    "## Fan fault (Fault_ID4)\n",
    "re_fan = (SampleSize_Fan_Cond_Data % BUFFER_LEN)\n",
    "Fan_Cond_Data = Fan_Cond_Data[:(SampleSize_Fan_Cond_Data - re_fan)]\n",
    "NumOfRaw_Fan_Cond_Data = (SampleSize_Fan_Cond_Data - re_fan) / BUFFER_LEN\n",
    "\n",
    "## Gear fault (Fault_ID5)\n",
    "re_gear = (SampleSize_Gear_Cond_Data % BUFFER_LEN)\n",
    "Gear_Cond_Data = Gear_Cond_Data[:(SampleSize_Gear_Cond_Data - re_gear)]\n",
    "NumOfRaw_Gear_Cond_Data = (SampleSize_Gear_Cond_Data - re_gear) / BUFFER_LEN"
   ]
  },
  {
   "cell_type": "code",
   "execution_count": 8,
   "metadata": {},
   "outputs": [
    {
     "name": "stdout",
     "output_type": "stream",
     "text": [
      "Off_Cond_Data shape:        (2902016,)\n",
      "Health_Cond_Data shape:     (2889728,)\n",
      "Bearing_Cond_Data shape:    (2899968,)\n",
      "Fan_Cond_Data shape:        (2940928,)\n",
      "Gear_Cond_Data shape:       (2936832,)\n"
     ]
    }
   ],
   "source": [
    "# DEBUG: Print shape BEFORE reshape\n",
    "print(f'Off_Cond_Data shape:        {Off_Cond_Data.shape}')\n",
    "print(f'Health_Cond_Data shape:     {Health_Cond_Data.shape}')\n",
    "print(f'Bearing_Cond_Data shape:    {Bearing_Cond_Data.shape}')\n",
    "print(f'Fan_Cond_Data shape:        {Fan_Cond_Data.shape}')\n",
    "print(f'Gear_Cond_Data shape:       {Gear_Cond_Data.shape}')"
   ]
  },
  {
   "cell_type": "markdown",
   "metadata": {},
   "source": [
    "## Pre-processamento"
   ]
  },
  {
   "cell_type": "code",
   "execution_count": 9,
   "metadata": {},
   "outputs": [],
   "source": [
    "## Pre-process data - reshape \n",
    "\n",
    "Off_Cond_Data     = Off_Cond_Data.reshape([BUFFER_LEN, int(NumOfRaw_Off_Cond_Data)], order='F')\n",
    "Health_Cond_Data  = Health_Cond_Data.reshape([BUFFER_LEN, int(NumOfRaw_Health_Cond_Data)], order='F')\n",
    "Bearing_Cond_Data = Bearing_Cond_Data.reshape([BUFFER_LEN, int(NumOfRaw_Bearing_Cond_Data)], order='F')\n",
    "Fan_Cond_Data     = Fan_Cond_Data.reshape([BUFFER_LEN, int(NumOfRaw_Fan_Cond_Data)], order='F')\n",
    "Gear_Cond_Data    = Gear_Cond_Data.reshape([BUFFER_LEN, int(NumOfRaw_Gear_Cond_Data)], order='F')"
   ]
  },
  {
   "cell_type": "code",
   "execution_count": 10,
   "metadata": {},
   "outputs": [
    {
     "name": "stdout",
     "output_type": "stream",
     "text": [
      "Off_Cond_Data shape:        (2048, 1417)\n",
      "Health_Cond_Data shape:     (2048, 1411)\n",
      "Bearing_Cond_Data shape:    (2048, 1416)\n",
      "Fan_Cond_Data shape:        (2048, 1436)\n",
      "Gear_Cond_Data shape:       (2048, 1434)\n"
     ]
    }
   ],
   "source": [
    "# DEBUG: Print shape AFTER reshape\n",
    "print(f'Off_Cond_Data shape:        {Off_Cond_Data.shape}')\n",
    "print(f'Health_Cond_Data shape:     {Health_Cond_Data.shape}')\n",
    "print(f'Bearing_Cond_Data shape:    {Bearing_Cond_Data.shape}')\n",
    "print(f'Fan_Cond_Data shape:        {Fan_Cond_Data.shape}')\n",
    "print(f'Gear_Cond_Data shape:       {Gear_Cond_Data.shape}')"
   ]
  },
  {
   "cell_type": "code",
   "execution_count": 11,
   "metadata": {},
   "outputs": [],
   "source": [
    "total_buff = NumOfRaw_Off_Cond_Data \\\n",
    "            + NumOfRaw_Health_Cond_Data \\\n",
    "            + NumOfRaw_Bearing_Cond_Data \\\n",
    "            + NumOfRaw_Fan_Cond_Data \\\n",
    "            + NumOfRaw_Gear_Cond_Data\n",
    "\n",
    "columns=['RMS','Mean','Median','Variance','Skewness','Kurtosis', 'CrestFactor','ShapeFactor','ImpulseFactor','MarginFactor', 'Peak1','Peak2','Peak3','PeakLocs1','PeakLocs2','PeakLocs3','FalutID']"
   ]
  },
  {
   "cell_type": "code",
   "execution_count": 12,
   "metadata": {},
   "outputs": [],
   "source": [
    "# Extract features from Off Condition with noise (Fault_ID1)\n",
    "off_data_list = []\n",
    "for i in range(int(NumOfRaw_Off_Cond_Data)):\n",
    "    DataBuff = Off_Cond_Data[:BUFFER_LEN,i] # gets 2048 samples\n",
    "    features = ExtractFeatures(DataBuff=DataBuff, BufferLen=BUFFER_LEN, Fs=Off_Cond_FS)\n",
    "    off_data_list.append(dict(zip(columns, [*features, FAULT_ID_OFF])))"
   ]
  },
  {
   "cell_type": "code",
   "execution_count": 13,
   "metadata": {},
   "outputs": [],
   "source": [
    "# Extract features Health condition (Fault_ID2)\n",
    "health_data_list = []\n",
    "for i in range(int(NumOfRaw_Health_Cond_Data)):\n",
    "    DataBuff = Health_Cond_Data[:BUFFER_LEN,i]\n",
    "    features = ExtractFeatures(DataBuff=DataBuff, BufferLen=BUFFER_LEN, Fs=Health_Cond_FS)\n",
    "    health_data_list.append(dict(zip(columns, [*features, FAULT_ID_HEALTH])))"
   ]
  },
  {
   "cell_type": "code",
   "execution_count": 14,
   "metadata": {},
   "outputs": [],
   "source": [
    "# Extract features Bearing fault (Fault_ID3)\n",
    "bearing_data_list = []\n",
    "for i in range(int(NumOfRaw_Bearing_Cond_Data)):\n",
    "    DataBuff = Bearing_Cond_Data[:BUFFER_LEN,i]\n",
    "    features = ExtractFeatures(DataBuff=DataBuff, BufferLen=BUFFER_LEN, Fs=Bearing_Cond_FS)\n",
    "    bearing_data_list.append(dict(zip(columns, [*features, FAULT_ID_BEARING])))"
   ]
  },
  {
   "cell_type": "code",
   "execution_count": 15,
   "metadata": {},
   "outputs": [],
   "source": [
    "# Extract features Fan fault (Fault_ID4)\n",
    "fan_data_list = []\n",
    "for i in range(int(NumOfRaw_Fan_Cond_Data)):\n",
    "    DataBuff = Fan_Cond_Data[:BUFFER_LEN,i]\n",
    "    features = ExtractFeatures(DataBuff=DataBuff, BufferLen=BUFFER_LEN, Fs=Fan_Cond_FS)\n",
    "    fan_data_list.append(dict(zip(columns, [*features, FAULT_ID_FAN])))"
   ]
  },
  {
   "cell_type": "code",
   "execution_count": 16,
   "metadata": {},
   "outputs": [],
   "source": [
    "# Extract features Gear fault (Fault_ID5)\n",
    "gear_data_list = []\n",
    "for i in range(int(NumOfRaw_Gear_Cond_Data)):\n",
    "    DataBuff = Gear_Cond_Data[:BUFFER_LEN,i]\n",
    "    features = ExtractFeatures(DataBuff=DataBuff, BufferLen=BUFFER_LEN, Fs=Gear_Cond_FS)\n",
    "    gear_data_list.append(dict(zip(columns, [*features, FAULT_ID_GEAR])))"
   ]
  },
  {
   "cell_type": "code",
   "execution_count": 17,
   "metadata": {},
   "outputs": [
    {
     "name": "stdout",
     "output_type": "stream",
     "text": [
      "off list size: 1417, shape: (2048, 1417)\n",
      "health list size: 1411, shape: (2048, 1411)\n",
      "bearing list size: 1416, shape: (2048, 1416)\n",
      "fan list size: 1436, shape: (2048, 1436)\n",
      "gear list size: 1434, shape: (2048, 1434)\n"
     ]
    }
   ],
   "source": [
    "# DEBUG - Verificando se o tamanho dos dados processados sao equivalentes a quantidade de dados brutos\n",
    "print(f'off list size: {len(off_data_list)}, shape: {Off_Cond_Data.shape}')\n",
    "print(f'health list size: {len(health_data_list)}, shape: {Health_Cond_Data.shape}')\n",
    "print(f'bearing list size: {len(bearing_data_list)}, shape: {Bearing_Cond_Data.shape}')\n",
    "print(f'fan list size: {len(fan_data_list)}, shape: {Fan_Cond_Data.shape}')\n",
    "print(f'gear list size: {len(gear_data_list)}, shape: {Gear_Cond_Data.shape}')"
   ]
  },
  {
   "cell_type": "code",
   "execution_count": 18,
   "metadata": {},
   "outputs": [],
   "source": [
    "# Concatenate all processed data list to one list and creates de DataFrame to store the data\n",
    "processed_data_list = []\n",
    "processed_data_list = off_data_list + health_data_list + bearing_data_list + fan_data_list + gear_data_list\n",
    "\n",
    "# creates the dataframe\n",
    "fault_data_df = pd.DataFrame(processed_data_list, columns=columns)"
   ]
  },
  {
   "cell_type": "code",
   "execution_count": 19,
   "metadata": {},
   "outputs": [],
   "source": [
    "fault_data_df.to_csv('data2.csv', index=False)"
   ]
  },
  {
   "cell_type": "code",
   "execution_count": null,
   "metadata": {},
   "outputs": [],
   "source": []
  }
 ],
 "metadata": {
  "kernelspec": {
   "display_name": "homl3",
   "language": "python",
   "name": "python3"
  },
  "language_info": {
   "codemirror_mode": {
    "name": "ipython",
    "version": 3
   },
   "file_extension": ".py",
   "mimetype": "text/x-python",
   "name": "python",
   "nbconvert_exporter": "python",
   "pygments_lexer": "ipython3",
   "version": "3.10.12"
  },
  "orig_nbformat": 4
 },
 "nbformat": 4,
 "nbformat_minor": 2
}
