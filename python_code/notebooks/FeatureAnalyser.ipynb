{
 "cells": [
  {
   "cell_type": "markdown",
   "metadata": {},
   "source": [
    "# Feature Analyser\n",
    "\n",
    "- Notebook que faz a analise e comparacao das features do uControlador e pelo script python"
   ]
  },
  {
   "cell_type": "code",
   "execution_count": null,
   "metadata": {},
   "outputs": [],
   "source": [
    "from sklearn.metrics import mean_squared_error\n",
    "import numpy as np\n",
    "import pandas as pd\n",
    "import matplotlib.pyplot as plt\n",
    "from pathlib import Path"
   ]
  },
  {
   "cell_type": "code",
   "execution_count": null,
   "metadata": {},
   "outputs": [],
   "source": [
    "BUFFER_LEN = 4096       # Tamanho do buffer utilizado para o calculo da FFT\n",
    "INPUT_AUDIO_CHANNEL = 0 # Seleciona o canal dos arquivos de audio do microfone (0, 1) -- faz sentido apenas para o audio .flac\n",
    "OVERLAP_FACTOR = 0.75\n",
    "ADVANCE_BLOCK_SIZE = int(BUFFER_LEN * (1 - OVERLAP_FACTOR))\n",
    "FILE_LIST_FEATURES_MICROCONTROLADOR = [\n",
    "    '../data/extracted_features/uControlador/OFF.CSV',          # Off Condition with noise ((Fault_ID1))\n",
    "    '../data/extracted_features/uControlador/HEALTH.CSV',       # Healthy condition (Fault_ID2)\n",
    "    '../data/extracted_features/uControlador/F1.CSV',           # Bearing fault (Fault_ID3 - F1)\n",
    "    '../data/extracted_features/uControlador/F2.CSV',           # Fan fault (Fault_ID4 - F2)\n",
    "    '../data/extracted_features/uControlador/F3.CSV',           # Gear fault (Fault_ID5 - F3)\n",
    "    \n",
    "    \n",
    "]\n",
    "\n",
    "FILE_LIST_FEATURES_DESKTOP = [\n",
    "    '../data/extracted_features/desktop/features_off_desktop.csv',\n",
    "    '../data/extracted_features/desktop/features_health_desktop.csv',\n",
    "    '../data/extracted_features/desktop/features_f1_desktop.csv',\n",
    "    '../data/extracted_features/desktop/features_f2_desktop.csv',\n",
    "    '../data/extracted_features/desktop/features_f3_desktop.csv',\n",
    "]\n",
    "\n",
    "CSV_COLUMNS=['RMS','Variance','Skewness','Kurtosis', 'CrestFactor','ShapeFactor','ImpulseFactor','MarginFactor', 'Peak1','Peak2','Peak3','PeakLocs1','PeakLocs2','PeakLocs3']\n",
    "# CSV_COLUMNS=['RMS','Mean','Median','Variance','Skewness','Kurtosis', 'CrestFactor','ShapeFactor','ImpulseFactor','MarginFactor', 'Peak1','Peak2','Peak3','PeakLocs1','PeakLocs2','PeakLocs3','FalutID']"
   ]
  },
  {
   "cell_type": "code",
   "execution_count": null,
   "metadata": {},
   "outputs": [],
   "source": [
    "FILE_SELECTOR=4\n",
    "features_uc_df = pd.read_csv(FILE_LIST_FEATURES_MICROCONTROLADOR[FILE_SELECTOR], delimiter=',', header=0)\n",
    "features_desktop_df = pd.read_csv(FILE_LIST_FEATURES_DESKTOP[FILE_SELECTOR], delimiter=',', header=0)\n",
    "sfile_name = Path(FILE_LIST_FEATURES_MICROCONTROLADOR[FILE_SELECTOR]).stem\n",
    "print(sfile_name)"
   ]
  },
  {
   "cell_type": "code",
   "execution_count": null,
   "metadata": {},
   "outputs": [],
   "source": [
    "# diff.plot(subplots=True,ncols=2, nrows=7, use_index=True, figsize=(15,15),title=\"Diferenca Features (Desktop - uControlador)\")\n",
    "\n",
    "xaxis = np.arange(features_uc_df.shape[0])\n",
    "idx = 0\n",
    "# print(xaxis.shape)\n",
    "fig, ax = plt.subplots(ncols=2, nrows=7, figsize=(15,15), layout=\"constrained\")\n",
    "\n",
    "# Plotando multiplas colunas com matplotlib\n",
    "for co in range(2):\n",
    "    for ro in range(7):\n",
    "        # print(f\"ro={ro}, co={co}, ro+co={ro+co}, {idx}\")\n",
    "        feature = CSV_COLUMNS[idx]\n",
    "        ax[ro,co].plot(xaxis, features_uc_df[feature], label=f'{feature} (uC)')\n",
    "        ax[ro,co].plot(xaxis, features_desktop_df[feature], label=f'{feature} (desktop)')\n",
    "        ax[ro,co].set_xlabel('Amostra')\n",
    "        ax[ro,co].set_ylabel('Valor')\n",
    "        ax[ro,co].set_title(feature)\n",
    "        ax[ro,co].legend()\n",
    "        idx = idx + 1\n",
    "\n",
    "\n",
    "fig.suptitle(f\"Plot Features (Desktop - uControlador) - {sfile_name}\")\n",
    "plt.show()"
   ]
  },
  {
   "cell_type": "code",
   "execution_count": null,
   "metadata": {},
   "outputs": [],
   "source": [
    "diff = features_desktop_df - features_uc_df\n",
    "\n",
    "xaxis = np.arange(features_uc_df.shape[0])\n",
    "idx = 0\n",
    "fig, ax = plt.subplots(ncols=2, nrows=7, figsize=(15,15), layout=\"constrained\")\n",
    "\n",
    "# Plotando multiplas colunas com matplotlib\n",
    "for co in range(2):\n",
    "    for ro in range(7):\n",
    "        feature = CSV_COLUMNS[idx]\n",
    "        ax[ro,co].plot(xaxis, diff[feature], label=f'{feature} (diff)')\n",
    "        ax[ro,co].set_xlabel('Amostra')\n",
    "        ax[ro,co].set_ylabel('Valor')\n",
    "        ax[ro,co].set_title(feature)\n",
    "        ax[ro,co].legend()\n",
    "        idx = idx + 1\n",
    "\n",
    "fig.suptitle(f\"Diferenca entre Features (Desktop - uControlador) - {sfile_name}\")\n",
    "plt.show()"
   ]
  }
 ],
 "metadata": {
  "kernelspec": {
   "display_name": "Kernel TG",
   "language": "python",
   "name": "projeto-tg"
  },
  "language_info": {
   "codemirror_mode": {
    "name": "ipython",
    "version": 3
   },
   "file_extension": ".py",
   "mimetype": "text/x-python",
   "name": "python",
   "nbconvert_exporter": "python",
   "pygments_lexer": "ipython3",
   "version": "3.10.12"
  }
 },
 "nbformat": 4,
 "nbformat_minor": 2
}
