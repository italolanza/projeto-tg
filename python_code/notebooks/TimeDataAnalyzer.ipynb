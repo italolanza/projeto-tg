{
 "cells": [
  {
   "cell_type": "markdown",
   "metadata": {},
   "source": [
    "# Time Data Analyser\n",
    "\n",
    "- Notebook que faz a analise dos dados de tempo gasto que foi coletado no codigo que roda no uControlador"
   ]
  },
  {
   "cell_type": "markdown",
   "metadata": {},
   "source": [
    "+ Ha **7** colunas no arquivo csv de dados do tempo (em microsegundos):\n",
    "    1. **`TempoLeituraSD`:** Mede o tempo gasto para ler 2048 amostras de audio do arquivo de entrada.\n",
    "    2. **`TempoNormalizacao`:** Mede o tempo gasto para normalizar e transformar os dados em float.\n",
    "    3. **`TempoPreProcessamento`:** Mede o tempo gasto para multiplicar o _sinal de entrada_ (`inputSignal`) com a _janela de Hanning_ e copiar o valor para o buffer que vai ser usado para o processamento dos dados.\n",
    "    4. **`TempoFeatTempo`:** Mede o tempo gasto com a extracao das features relacionadas ao dominio do tempo.\n",
    "    5. **`TempoFFT`:** Mede o tempo gasto para calcular a FFT do _sinal de entrada_.\n",
    "    6. **`TempoFeatFrequencia`:** Mede o tempo gasto com a extracao das features relacionadas ao dominio da frequencia.\n",
    "    7. **`TempoInferencia`:** Mede o tempo gasto para fazer a inferencia."
   ]
  },
  {
   "cell_type": "markdown",
   "metadata": {},
   "source": [
    "+ Os dados foram extraidos utilizando os modelos: **_Decision Tree_**, **_Extra Tree_**, **_Gaussian Naive Bayess_** e **_Random Forest_**\n",
    "    - Alem disso, para cada modelo foi feito a captura dos dados de tempo para cada um dos arquivos de audio: _Off Condition with noise_, _Healthy condition_, _Bearing fault (F1)_, _Fan fault (F2)_ e _Gear fault (F3)_."
   ]
  },
  {
   "cell_type": "code",
   "execution_count": null,
   "metadata": {},
   "outputs": [],
   "source": [
    "from sklearn.metrics import mean_squared_error\n",
    "import numpy as np\n",
    "import pandas as pd\n",
    "from pathlib import Path"
   ]
  },
  {
   "cell_type": "code",
   "execution_count": null,
   "metadata": {},
   "outputs": [],
   "source": [
    "input_file_set = {\n",
    "    \"off\": \"../data/extracted_features/uControlador/decision_tree/times/DT-T-OFF.CSV\",\n",
    "    \"health\": \"../data/extracted_features/uControlador/decision_tree/times/DT-T-HTH.CSV\",\n",
    "    \"f1\": \"../data/extracted_features/uControlador/decision_tree/times/DT-T-F1.CSV\",\n",
    "    \"f2\": \"../data/extracted_features/uControlador/decision_tree/times/DT-T-F2.CSV\",\n",
    "    \"f3\": \"../data/extracted_features/uControlador/decision_tree/times/DT-T-F3.CSV\",\n",
    "}\n",
    "\n",
    "CSV_COLUMNS_NAMES=['TempoLeituraSD','TempoNormalizacao','TempoPreProcessamento','TempoFeatTempo','TempoFFT','TempoFeatFrequencia','TempoInferencia']\n",
    "\n",
    "AUDIO_SAMPLE_RATE = 48000   # 48kHz, do arquivo de audio .wav\n",
    "INPUT_BUFFER_SIZE = 2048    # Tamanho do buffer usado"
   ]
  },
  {
   "cell_type": "markdown",
   "metadata": {},
   "source": [
    "## Carregando os dados"
   ]
  },
  {
   "cell_type": "code",
   "execution_count": null,
   "metadata": {},
   "outputs": [],
   "source": [
    "FILE_SELECTOR=0\n",
    "# batch_df = pd.DataFrame()\n",
    "time_df = pd.read_csv(input_file_set['off'], delimiter=',', header=0)\n",
    "input_filename= Path(input_file_set['off']).stem\n",
    "print(f\"Reading file {input_filename}\")"
   ]
  },
  {
   "cell_type": "markdown",
   "metadata": {},
   "source": [
    "## Processando os dados"
   ]
  },
  {
   "cell_type": "code",
   "execution_count": null,
   "metadata": {},
   "outputs": [],
   "source": [
    "# cria coluna batch_id para ajudar a agrupar as janelas\n",
    "# 4 janelas sao geradas para as 2048 amostras lidas do SD card\n",
    "time_df['batch_id'] = time_df.index // 4\n",
    "print(time_df.head(8))"
   ]
  },
  {
   "cell_type": "code",
   "execution_count": null,
   "metadata": {},
   "outputs": [],
   "source": [
    "# Estatisticas por batch (janela de amostragem)\n",
    "stats_per_batch = time_df.groupby('batch_id').agg(['mean', 'std', 'min', 'max'])\n",
    "print(stats_per_batch.columns)\n",
    "print(stats_per_batch.loc[0])"
   ]
  },
  {
   "cell_type": "code",
   "execution_count": null,
   "metadata": {},
   "outputs": [],
   "source": [
    "# Cria uma nova coluna que e a soma de todos os tempos\n",
    "# Remove a coluna TempoLeituraSD da conta\n",
    "time_df['tempo_total_janela'] = time_df[['TempoNormalizacao','TempoPreProcessamento','TempoFeatTempo','TempoFFT','TempoFeatFrequencia','TempoInferencia']].sum(axis=1)\n",
    "\n",
    "# Tempo total para processar as 4 janelas (1 batch)\n",
    "time_df['tempo_total_batch'] = time_df.groupby('batch_id')['tempo_total_janela'].sum()\n",
    "batch_df = pd.DataFrame(time_df.groupby('batch_id')['tempo_total_janela'].sum())\n",
    "batch_df = batch_df.rename(columns={\"tempo_total_janela\": \"tempo_total_batch\"})\n",
    "# batch_df = pd.DataFrame(batch_df)\n",
    "\n",
    "# Comprar o tempo gasto no processamento com o tempo maximo para poder \n",
    "# processar em tempo real\n",
    "max_time_per_batch = (INPUT_BUFFER_SIZE / AUDIO_SAMPLE_RATE) * 1e6 # aprox ~ 42666us\n",
    "print(f\"Tempo maximo para funcionar em tempo real eh {max_time_per_batch} us\")\n",
    "batch_df['batch_em_rt'] = batch_df['tempo_total_batch'] <= max_time_per_batch\n",
    "\n",
    "# Porcentagem de batchs que poderia ter sido processados com tempo real\n",
    "conformidade = batch_df.groupby('batch_id')['batch_em_rt'].all()\n",
    "print(f\"Batches em tempo real: {conformidade.sum()}/{len(conformidade)}\")"
   ]
  },
  {
   "cell_type": "code",
   "execution_count": null,
   "metadata": {},
   "outputs": [],
   "source": [
    "# batch_df.info()\n",
    "# batch_df.head()"
   ]
  },
  {
   "cell_type": "markdown",
   "metadata": {},
   "source": [
    "## Graficos"
   ]
  },
  {
   "cell_type": "code",
   "execution_count": null,
   "metadata": {},
   "outputs": [],
   "source": [
    "import matplotlib.pyplot as plt"
   ]
  },
  {
   "cell_type": "markdown",
   "metadata": {},
   "source": [
    "### Media de cada Janela por Batch"
   ]
  },
  {
   "cell_type": "code",
   "execution_count": null,
   "metadata": {},
   "outputs": [],
   "source": [
    "stats_per_batch = stats_per_batch.transpose().reset_index()\n",
    "# stats_per_batch.columns = ['Coluna', 'Média', 'Desvio Padrão', 'Mínimo', 'Máximo']\n",
    "stats_per_batch.head()"
   ]
  },
  {
   "cell_type": "code",
   "execution_count": null,
   "metadata": {},
   "outputs": [],
   "source": [
    "# Calcular tempo medio por janela em todos os batches\n",
    "# mean_times = stats_per_batch.xs('mean', axis=1, level=1)\n",
    "\n",
    "# # Plotar\n",
    "# mean_times.plot(kind='bar', figsize=(15, 6))\n",
    "# plt.title('Tempo Médio por Etapa (por Batch)')\n",
    "# plt.ylabel('Tempo (µs)')\n",
    "# plt.xlabel('Batch ID')\n",
    "# plt.show()\n",
    "\n",
    "# Configurar a figura\n",
    "# plt.figure(figsize=(14, 8))\n",
    "# largura_barra = 0.2  # Largura das barras\n",
    "# posicoes = range(len(stats_per_batch['Coluna']))  # Posições no eixo X\n",
    "\n",
    "# # Plotar cada estatística\n",
    "# plt.bar(\n",
    "#     [p - 1.5*largura_barra for p in posicoes],\n",
    "#     stats_per_batch['Média'],\n",
    "#     width=largura_barra,\n",
    "#     label='Média',\n",
    "#     color='blue'\n",
    "# )\n",
    "\n",
    "# plt.bar(\n",
    "#     [p - 0.5*largura_barra for p in posicoes],\n",
    "#     stats_per_batch['Desvio Padrão'],\n",
    "#     width=largura_barra,\n",
    "#     label='Desvio Padrão',\n",
    "#     color='orange'\n",
    "# )\n",
    "\n",
    "# plt.bar(\n",
    "#     [p + 0.5*largura_barra for p in posicoes],\n",
    "#     stats_per_batch['Mínimo'],\n",
    "#     width=largura_barra,\n",
    "#     label='Mínimo',\n",
    "#     color='green'\n",
    "# )\n",
    "\n",
    "# plt.bar(\n",
    "#     [p + 1.5*largura_barra for p in posicoes],\n",
    "#     stats_per_batch['Máximo'],\n",
    "#     width=largura_barra,\n",
    "#     label='Máximo',\n",
    "#     color='red'\n",
    "# )\n",
    "\n",
    "# # Ajustar detalhes do gráfico\n",
    "# plt.title('Estatísticas das Colunas de Tempo', fontsize=14)\n",
    "# plt.xlabel('Colunas', fontsize=12)\n",
    "# plt.ylabel('Valores', fontsize=12)\n",
    "# plt.xticks(posicoes, estatisticas['Coluna'], rotation=45, ha='right')\n",
    "# plt.legend()\n",
    "# plt.grid(axis='y', linestyle='--', alpha=0.7)\n",
    "# plt.tight_layout()\n",
    "# plt.show()\n"
   ]
  },
  {
   "cell_type": "markdown",
   "metadata": {},
   "source": [
    "### Tempo Medio Janela por Batch"
   ]
  },
  {
   "cell_type": "code",
   "execution_count": null,
   "metadata": {},
   "outputs": [],
   "source": [
    "# mean = batch_df.groupby('batch_id')['tempo_total_batch'].mean()\n",
    "\n",
    "plt.figure(figsize=(14, 8))\n",
    "plt.plot(time_df.groupby('batch_id')['tempo_total_janela'].mean(), label='Tempo Medio da Janela')\n",
    "# plt.fill_between(\n",
    "#     range(len(conformidade)),\n",
    "#     time_df.groupby('batch_id')['tempo_total_janela'].min(),\n",
    "#     time_df.groupby('batch_id')['tempo_total_janela'].max(),\n",
    "#     alpha=0.3,\n",
    "#     label='Variação (Min-Max)'\n",
    "# )\n",
    "# plt.axhline(y=max_time_per_batch, color='r', linestyle='--', label='Limite de Tempo Real')\n",
    "plt.title('Tempo Medio Total de cada Janela por Amostra')\n",
    "plt.xlabel('Batch ID')\n",
    "plt.ylabel('Tempo (µs)')\n",
    "plt.legend()\n",
    "plt.show()"
   ]
  },
  {
   "cell_type": "markdown",
   "metadata": {},
   "source": [
    "### Tempo Total por Batch"
   ]
  },
  {
   "cell_type": "code",
   "execution_count": null,
   "metadata": {},
   "outputs": [],
   "source": [
    "# mean = batch_df.groupby('batch_id')['tempo_total_batch'].mean()\n",
    "\n",
    "plt.figure(figsize=(14, 8))\n",
    "plt.plot(batch_df['tempo_total_batch'], label='Tempo Total Médio por Batch')\n",
    "# plt.fill_between(\n",
    "#     range(len(conformidade)),\n",
    "#     batch_df['tempo_total_batch'].min(),\n",
    "#     batch_df['tempo_total_batch'].max(),\n",
    "#     alpha=0.3,\n",
    "#     label='Variação (Min-Max)'\n",
    "# )\n",
    "plt.axhline(y=max_time_per_batch, color='r', linestyle='--', label='Limite de Tempo Real')\n",
    "plt.title('Tempo Total por Amostra')\n",
    "plt.xlabel('Batch ID')\n",
    "plt.ylabel('Tempo (µs)')\n",
    "plt.legend()\n",
    "plt.show()"
   ]
  },
  {
   "cell_type": "code",
   "execution_count": null,
   "metadata": {},
   "outputs": [],
   "source": [
    "mean2 = time_df.groupby('batch_id')['tempo_total_batch'].mean()"
   ]
  }
 ],
 "metadata": {
  "kernelspec": {
   "display_name": "projeto-tg-9fcybUQB-py3.10",
   "language": "python",
   "name": "python3"
  },
  "language_info": {
   "codemirror_mode": {
    "name": "ipython",
    "version": 3
   },
   "file_extension": ".py",
   "mimetype": "text/x-python",
   "name": "python",
   "nbconvert_exporter": "python",
   "pygments_lexer": "ipython3",
   "version": "3.10.12"
  }
 },
 "nbformat": 4,
 "nbformat_minor": 2
}
