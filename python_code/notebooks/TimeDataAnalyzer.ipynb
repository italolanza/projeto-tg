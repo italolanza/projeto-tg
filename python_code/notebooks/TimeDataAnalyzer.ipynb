{
 "cells": [
  {
   "cell_type": "markdown",
   "metadata": {},
   "source": [
    "# Time Data Analyser\n",
    "\n",
    "- Notebook que faz a analise dos dados de tempo gasto que foi coletado no codigo que roda no uControlador"
   ]
  },
  {
   "cell_type": "markdown",
   "metadata": {},
   "source": [
    "+ Ha **7** colunas no arquivo csv de dados do tempo (em microsegundos):\n",
    "    1. **`TempoLeituraSD`:** Mede o tempo gasto para ler 2048 amostras de audio do arquivo de entrada.\n",
    "    2. **`TempoNormalizacao`:** Mede o tempo gasto para normalizar e transformar os dados em float.\n",
    "    3. **`TempoPreProcessamento`:** Mede o tempo gasto para multiplicar o _sinal de entrada_ (`inputSignal`) com a _janela de Hanning_ e copiar o valor para o buffer que vai ser usado para o processamento dos dados.\n",
    "    4. **`TempoFeatTempo`:** Mede o tempo gasto com a extracao das features relacionadas ao dominio do tempo.\n",
    "    5. **`TempoFFT`:** Mede o tempo gasto para calcular a FFT do _sinal de entrada_.\n",
    "    6. **`TempoFeatFrequencia`:** Mede o tempo gasto com a extracao das features relacionadas ao dominio da frequencia.\n",
    "    7. **`TempoInferencia`:** Mede o tempo gasto para fazer a inferencia."
   ]
  },
  {
   "cell_type": "markdown",
   "metadata": {},
   "source": [
    "+ Os dados foram extraidos utilizando os modelos: **_Decision Tree_**, **_Extra Tree_**, **_Gaussian Naive Bayess_** e **_Random Forest_**\n",
    "    - Alem disso, para cada modelo foi feito a captura dos dados de tempo para cada um dos arquivos de audio: _Off Condition with noise_, _Healthy condition_, _Bearing fault (F1)_, _Fan fault (F2)_ e _Gear fault (F3)_."
   ]
  },
  {
   "cell_type": "code",
   "execution_count": 12,
   "metadata": {},
   "outputs": [],
   "source": [
    "from sklearn.metrics import mean_squared_error\n",
    "import numpy as np\n",
    "import pandas as pd\n",
    "import matplotlib.pyplot as plt\n",
    "from pathlib import Path"
   ]
  },
  {
   "cell_type": "code",
   "execution_count": 20,
   "metadata": {},
   "outputs": [],
   "source": [
    "input_file_set = {\n",
    "    \"off\": \"/home/dev/Workspace/TG/projeto-tg/python_code/data/extracted_features/uControlador/decision_tree/times/DT-T-OFF.CSV\",\n",
    "    \"health\": \"./data/extracted_features/uControlador/decision_tree/times/DT-T-HTH.CSV\",\n",
    "    \"f1\": \"./data/extracted_features/uControlador/decision_tree/times/DT-T-F1.CSV\",\n",
    "    \"f2\": \"./data/extracted_features/uControlador/decision_tree/times/DT-T-F2.CSV\",\n",
    "    \"f3\": \"./data/extracted_features/uControlador/decision_tree/times/DT-T-F3.CSV\",\n",
    "}\n",
    "\n",
    "CSV_COLUMNS_NAMES=['TempoLeituraSD','TempoNormalizacao','TempoPreProcessamento','TempoFeatTempo','TempoFFT','TempoFeatFrequencia','TempoInferencia']"
   ]
  },
  {
   "cell_type": "code",
   "execution_count": null,
   "metadata": {},
   "outputs": [
    {
     "ename": "KeyError",
     "evalue": "0",
     "output_type": "error",
     "traceback": [
      "\u001b[0;31m---------------------------------------------------------------------------\u001b[0m",
      "\u001b[0;31mKeyError\u001b[0m                                  Traceback (most recent call last)",
      "Cell \u001b[0;32mIn[21], line 3\u001b[0m\n\u001b[1;32m      1\u001b[0m FILE_SELECTOR\u001b[38;5;241m=\u001b[39m\u001b[38;5;241m0\u001b[39m\n\u001b[1;32m      2\u001b[0m time_df \u001b[38;5;241m=\u001b[39m pd\u001b[38;5;241m.\u001b[39mread_csv(input_file_set[\u001b[38;5;124m'\u001b[39m\u001b[38;5;124moff\u001b[39m\u001b[38;5;124m'\u001b[39m], delimiter\u001b[38;5;241m=\u001b[39m\u001b[38;5;124m'\u001b[39m\u001b[38;5;124m,\u001b[39m\u001b[38;5;124m'\u001b[39m, header\u001b[38;5;241m=\u001b[39m\u001b[38;5;241m0\u001b[39m)\n\u001b[0;32m----> 3\u001b[0m input_filename\u001b[38;5;241m=\u001b[39m Path(\u001b[43minput_file_set\u001b[49m\u001b[43m[\u001b[49m\u001b[43mFILE_SELECTOR\u001b[49m\u001b[43m]\u001b[49m)\u001b[38;5;241m.\u001b[39mstem\n\u001b[1;32m      4\u001b[0m \u001b[38;5;28mprint\u001b[39m(\u001b[38;5;124mf\u001b[39m\u001b[38;5;124m\"\u001b[39m\u001b[38;5;124mReading file \u001b[39m\u001b[38;5;132;01m{\u001b[39;00minput_filename\u001b[38;5;132;01m}\u001b[39;00m\u001b[38;5;124m\"\u001b[39m)\n",
      "\u001b[0;31mKeyError\u001b[0m: 0"
     ]
    }
   ],
   "source": [
    "FILE_SELECTOR=0\n",
    "time_df = pd.read_csv(input_file_set['off'], delimiter=',', header=0)\n",
    "input_filename= Path(input_file_set['off']).stem\n",
    "print(f\"Reading file {input_filename}\")"
   ]
  }
 ],
 "metadata": {
  "kernelspec": {
   "display_name": "projeto-tg-9fcybUQB-py3.10",
   "language": "python",
   "name": "python3"
  },
  "language_info": {
   "codemirror_mode": {
    "name": "ipython",
    "version": 3
   },
   "file_extension": ".py",
   "mimetype": "text/x-python",
   "name": "python",
   "nbconvert_exporter": "python",
   "pygments_lexer": "ipython3",
   "version": "3.10.12"
  }
 },
 "nbformat": 4,
 "nbformat_minor": 2
}
