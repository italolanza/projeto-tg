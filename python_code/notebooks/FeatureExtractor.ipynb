{
 "cells": [
  {
   "cell_type": "markdown",
   "metadata": {},
   "source": [
    "# FeatureExtractor\n",
    "\n",
    "- Script Python que faz a extracao dos dados da mesma forma que o descrito no artigo. Basicamente adiciona o janelamento de 75% ao script `Main.ipynb`"
   ]
  },
  {
   "cell_type": "code",
   "execution_count": null,
   "metadata": {},
   "outputs": [],
   "source": [
    "import soundfile as sf\n",
    "import numpy as np\n",
    "from tg_utils import ExtractFeatures\n",
    "import pandas as pd"
   ]
  },
  {
   "cell_type": "code",
   "execution_count": null,
   "metadata": {},
   "outputs": [],
   "source": [
    "## Defining Constants\n",
    "BUFFER_LEN = 2048                           # Tamanho do buffer utilizado para o calculo da FFT\n",
    "OVERLAP_STEP_SIZE = int(BUFFER_LEN * 0.25)   # Passo de 25% para um overlap de 75%\n",
    "INPUT_AUDIO_CHANNEL = 0                     # Seleciona o canal dos arquivos de audio do microfone (0, 1)\n",
    "FAULT_ID_OFF = 0\n",
    "FAULT_ID_HEALTH = 1\n",
    "FAULT_ID_BEARING = 2\n",
    "FAULT_ID_FAN = 3\n",
    "FAULT_ID_GEAR = 4\n"
   ]
  },
  {
   "cell_type": "code",
   "execution_count": null,
   "metadata": {},
   "outputs": [],
   "source": [
    "## Read Audio Sample\n",
    "# Off_Cond_Data, Off_Cond_FS          = sf.read('../data/audio_files/original/M1_OFF_S1.flac') # Off Condition with noise ((Fault_ID1))\n",
    "# Health_Cond_Data, Health_Cond_FS    = sf.read('../data/audio_files/original/M1_H_S1.flac')   # Healthy condition (Fault_ID2)\n",
    "# Bearing_Cond_Data, Bearing_Cond_FS  = sf.read('../data/audio_files/original/M1_F1_S1.flac')  # Bearing fault (Fault_ID3)\n",
    "# Fan_Cond_Data, Fan_Cond_FS          = sf.read('../data/audio_files/original/M1_F2_S1.flac')  # Fan fault (Fault_ID4)\n",
    "# Gear_Cond_Data, Gear_Cond_FS        = sf.read('../data/audio_files/original/M1_F3_S1.flac')  # Gear fault (Fault_ID5)\n",
    "\n",
    "AudioFiles = {\n",
    "    \"TrainingData\": {\n",
    "        \"off\": \"../data/audio_files/wav/training/off_80.wav\",\n",
    "        \"health\": \"../data/audio_files/wav/training/health_80.wav\",\n",
    "        \"f1\": \"../data/audio_files/wav/training/f1_80.wav\",\n",
    "        \"f2\": \"../data/audio_files/wav/training/f2_80.wav\",\n",
    "        \"f3\": \"../data/audio_files/wav/training/f3_80.wav\",\n",
    "    },\n",
    "    \"ValidationData\": {\n",
    "        \"off\": \"../data/audio_files/wav/validation/off_20.wav\",\n",
    "        \"health\": \"../data/audio_files/wav/validation/health_20.wav\",\n",
    "        \"f1\": \"../data/audio_files/wav/validation/f1_20.wav\",\n",
    "        \"f2\": \"../data/audio_files/wav/validation/f2_20.wav\",\n",
    "        \"f3\": \"../data/audio_files/wav/validation/f3_20.wav\",\n",
    "    },\n",
    "    \"RawData\": {\n",
    "        \"off\": \"../data/audio_files/wav/full/off.wav\",\n",
    "        \"health\": \"../data/audio_files/wav/full/health.wav\",\n",
    "        \"f1\": \"../data/audio_files/wav/full/f1.wav\",\n",
    "        \"f2\": \"../data/audio_files/wav/full/f2.wav\",\n",
    "        \"f3\": \"../data/audio_files/wav/full/f3.wav\",\n",
    "    },\n",
    "}\n",
    "\n",
    "input_data_type = 'float32' #or int16"
   ]
  },
  {
   "cell_type": "code",
   "execution_count": null,
   "metadata": {},
   "outputs": [],
   "source": [
    "def extract_features_with_overlap(audio_data, fs, fault_id, buffer_len, step_size, feature_columns):\n",
    "    \"\"\"\n",
    "    Extrai features de um sinal de audio usando uma janela deslizante com overlap.\n",
    "\n",
    "    Args:\n",
    "        audio_data (np.array): O array 1D de dados do audio.\n",
    "        fs (int): A taxa de amostragem do audio.\n",
    "        fault_id (int): O ID da falha a ser atribuído.\n",
    "        buffer_len (int): O tamanho da janela de análise (buffer).\n",
    "        step_size (int): O passo (step size) para deslizar a janela.\n",
    "        feature_columns (list): A lista de nomes das colunas para o dicionário de features.\n",
    "\n",
    "    Returns:\n",
    "        list: Uma lista de dicionários, onde cada dicionário representa as features de uma janela.\n",
    "    \"\"\"\n",
    "    features_list = []\n",
    "    # Itera sobre o audio com o passo definido por step_size\n",
    "    for i in range(0, len(audio_data) - buffer_len + 1, step_size):\n",
    "        # Seleciona a janela de dados atual\n",
    "        data_buff = audio_data[i : i + buffer_len]\n",
    "        \n",
    "        # Extrai as features da janela\n",
    "        features = ExtractFeatures(DataBuff=data_buff, BufferLen=buffer_len, Fs=fs)\n",
    "        \n",
    "        # Cria o dicionário e adiciona o FaultID\n",
    "        feature_dict = dict(zip(feature_columns, [*features, fault_id]))\n",
    "        features_list.append(feature_dict)\n",
    "        \n",
    "    return features_list"
   ]
  },
  {
   "cell_type": "code",
   "execution_count": null,
   "metadata": {},
   "outputs": [],
   "source": [
    "def process_and_extract_features(file_dict, data_type='float32'):\n",
    "    \"\"\"\n",
    "    Carrega um conjunto de arquivos de áudio, extrai features e retorna um DataFrame.\n",
    "\n",
    "    Args:\n",
    "        file_dict (dict): Dicionário com os caminhos para os arquivos de áudio ('off', 'health', 'f1', etc.).\n",
    "        data_type (str): O tipo de dado para ler os arquivos de áudio.\n",
    "\n",
    "    Returns:\n",
    "        pd.DataFrame: DataFrame com as features extraídas de todos os arquivos.\n",
    "    \"\"\"\n",
    "    # Carrega todos os arquivos de áudio do dicionário\n",
    "    off_data, off_fs = sf.read(file_dict[\"off\"], dtype=data_type)           # Off Condition with noise ((Fault_ID1))\n",
    "    health_data, health_fs = sf.read(file_dict[\"health\"], dtype=data_type)  # Healthy condition (Fault_ID2)\n",
    "    bearing_data, bearing_fs = sf.read(file_dict[\"f1\"], dtype=data_type)    # Bearing fault (Fault_ID3)\n",
    "    fan_data, fan_fs = sf.read(file_dict[\"f2\"], dtype=data_type)            # Fan fault (Fault_ID4)\n",
    "    gear_data, gear_fs = sf.read(file_dict[\"f3\"], dtype=data_type)          # Gear fault (Fault_ID5)\n",
    "\n",
    "    # Remove o início dos sinais de áudio\n",
    "    off_data = off_data[(20*BUFFER_LEN)+1:]\n",
    "    health_data = health_data[(20*BUFFER_LEN)+1:]\n",
    "    bearing_data = bearing_data[(20*BUFFER_LEN)+1:]\n",
    "    fan_data = fan_data[(20*BUFFER_LEN)+1:]\n",
    "    gear_data = gear_data[(20*BUFFER_LEN)+1:]\n",
    "\n",
    "    # Define as colunas do DataFrame final\n",
    "    columns=['RMS','Mean','Median','Variance','Skewness','Kurtosis', 'CrestFactor','ShapeFactor','ImpulseFactor','MarginFactor', 'Peak1','Peak2','Peak3','PeakLocs1','PeakLocs2','PeakLocs3','FaultID']\n",
    "    \n",
    "    # Extrai features de cada tipo de condição\n",
    "    off_list = extract_features_with_overlap(off_data, off_fs, FAULT_ID_OFF, BUFFER_LEN, OVERLAP_STEP_SIZE, columns)\n",
    "    health_list = extract_features_with_overlap(health_data, health_fs, FAULT_ID_HEALTH, BUFFER_LEN, OVERLAP_STEP_SIZE, columns)\n",
    "    bearing_list = extract_features_with_overlap(bearing_data, bearing_fs, FAULT_ID_BEARING, BUFFER_LEN, OVERLAP_STEP_SIZE, columns)\n",
    "    fan_list = extract_features_with_overlap(fan_data, fan_fs, FAULT_ID_FAN, BUFFER_LEN, OVERLAP_STEP_SIZE, columns)\n",
    "    gear_list = extract_features_with_overlap(gear_data, gear_fs, FAULT_ID_GEAR, BUFFER_LEN, OVERLAP_STEP_SIZE, columns)\n",
    "\n",
    "    # Concatena todas as listas de features\n",
    "    full_list = off_list + health_list + bearing_list + fan_list + gear_list\n",
    "    \n",
    "    # Cria e retorna o DataFrame\n",
    "    return pd.DataFrame(full_list, columns=columns)"
   ]
  },
  {
   "cell_type": "markdown",
   "metadata": {},
   "source": [
    "## Extracao das Features"
   ]
  },
  {
   "cell_type": "code",
   "execution_count": null,
   "metadata": {},
   "outputs": [],
   "source": [
    "# --- Processando os dados de Treinamento ---\n",
    "print(\"Iniciando a extração de features dos dados de TREINAMENTO...\")\n",
    "training_df = process_and_extract_features(AudioFiles[\"TrainingData\"], data_type=input_data_type)\n",
    "print(f\"Extração de treinamento concluída. Total de janelas: {len(training_df)}\")\n",
    "\n",
    "# Salva as features de treinamento em um arquivo CSV\n",
    "output_path_train = '../data/extracted_features/extracted_features_training.csv'\n",
    "training_df.to_csv(output_path_train, index=False)\n",
    "print(f\"Features de treinamento salvas em: {output_path_train}\")\n",
    "\n",
    "\n",
    "# --- Processando os dados de Validação ---\n",
    "print(\"\\nIniciando a extração de features dos dados de VALIDAÇÃO...\")\n",
    "validation_df = process_and_extract_features(AudioFiles[\"ValidationData\"], data_type=input_data_type)\n",
    "print(f\"Extração de validação concluída. Total de janelas: {len(validation_df)}\")\n",
    "\n",
    "# Salva as features de validação em um arquivo CSV\n",
    "output_path_validation = '../data/extracted_features/extracted_features_validation.csv'\n",
    "validation_df.to_csv(output_path_validation, index=False)\n",
    "print(f\"Features de validação salvas em: {output_path_validation}\")"
   ]
  }
 ],
 "metadata": {
  "kernelspec": {
   "display_name": "projeto-tg-ZGfju8ng-py3.13",
   "language": "python",
   "name": "python3"
  },
  "language_info": {
   "codemirror_mode": {
    "name": "ipython",
    "version": 3
   },
   "file_extension": ".py",
   "mimetype": "text/x-python",
   "name": "python",
   "nbconvert_exporter": "python",
   "pygments_lexer": "ipython3",
   "version": "3.13.5"
  }
 },
 "nbformat": 4,
 "nbformat_minor": 4
}
