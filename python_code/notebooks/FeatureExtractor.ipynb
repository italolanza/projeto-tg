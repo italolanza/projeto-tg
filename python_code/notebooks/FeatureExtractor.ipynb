{
 "cells": [
  {
   "cell_type": "markdown",
   "metadata": {},
   "source": [
    "# Feature Extractor\n",
    "\n",
    "- Notebook que faz a extracao das features da mesma forma que esta implementado no microncontrolador"
   ]
  },
  {
   "cell_type": "code",
   "execution_count": 10,
   "metadata": {},
   "outputs": [],
   "source": [
    "import numpy as np\n",
    "from scipy.signal.windows import hann\n",
    "import soundfile as sf\n",
    "from tg_utils import ExtractFeatures\n",
    "import pandas as pd"
   ]
  },
  {
   "cell_type": "code",
   "execution_count": 2,
   "metadata": {},
   "outputs": [],
   "source": [
    "## Definicao de constantes\n",
    "BUFFER_LEN = 4096       # Tamanho do buffer utilizado para o calculo da FFT\n",
    "INPUT_AUDIO_CHANNEL = 0 # Seleciona o canal dos arquivos de audio do microfone (0, 1) -- faz sentido apenas para .flac\n",
    "FAULT_ID_OFF = 1\n",
    "FAULT_ID_HEALTH = 2\n",
    "FAULT_ID_BEARING = 3\n",
    "FAULT_ID_FAN = 4\n",
    "FAULT_ID_GEAR = 5"
   ]
  },
  {
   "cell_type": "code",
   "execution_count": 8,
   "metadata": {},
   "outputs": [],
   "source": [
    "# Amplitude do Sinal, Taxa de Amostragem do arquivo de Audio\n",
    "Off_Cond_Data, Off_Cond_SampleRate          = sf.read('data/raw/off.wav')      # Off Condition with noise ((Fault_ID1))\n",
    "Health_Cond_Data, Health_Cond_SampleRate    = sf.read('data/raw/health.wav')   # Healthy condition (Fault_ID2)\n",
    "Bearing_Cond_Data, Bearing_Cond_SampleRate  = sf.read('data/raw/f1.wav')       # Bearing fault (Fault_ID3)\n",
    "Fan_Cond_Data, Fan_Cond_SampleRate          = sf.read('data/raw/f2.wav')       # Fan fault (Fault_ID4)\n",
    "Gear_Cond_Data, Gear_Cond_SampleRate        = sf.read('data/raw/f3.wav')       # Gear fault (Fault_ID5)"
   ]
  },
  {
   "cell_type": "markdown",
   "metadata": {},
   "source": [
    "## Pre-processamento\n",
    "\n",
    "- Multiplica entrada pelo filtro de han\n",
    "- Aplica o janelamento de 75% de dados passados"
   ]
  },
  {
   "cell_type": "code",
   "execution_count": null,
   "metadata": {},
   "outputs": [],
   "source": [
    "# Cria um filtro com Janela Hanning \n",
    "hann_window = hann(BUFFER_LEN)"
   ]
  },
  {
   "cell_type": "code",
   "execution_count": null,
   "metadata": {},
   "outputs": [],
   "source": []
  }
 ],
 "metadata": {
  "kernelspec": {
   "display_name": "Kernel TG",
   "language": "python",
   "name": "projeto-tg"
  },
  "language_info": {
   "codemirror_mode": {
    "name": "ipython",
    "version": 3
   },
   "file_extension": ".py",
   "mimetype": "text/x-python",
   "name": "python",
   "nbconvert_exporter": "python",
   "pygments_lexer": "ipython3",
   "version": "3.10.12"
  }
 },
 "nbformat": 4,
 "nbformat_minor": 2
}
