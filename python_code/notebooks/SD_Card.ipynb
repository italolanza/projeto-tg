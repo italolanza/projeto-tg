{
 "cells": [
  {
   "cell_type": "markdown",
   "metadata": {},
   "source": [
    "# TrainClassifier"
   ]
  },
  {
   "cell_type": "markdown",
   "metadata": {},
   "source": [
    "+ Faz o treinamento e testa acuracia dos classificadores utilizando um arquivo csv (SDCard.txt) que contem as features extraidas dos audios.\n",
    "+ Classificadores utilizados:\n",
    "    + `Bagged Trees Ensemble`\n",
    "    + `Quadratic SVM`\n",
    "    + `Fine Decision Tree`\n",
    "    + `Naïve Bayes`\n",
    "    + `KNeighbors (KNN)`"
   ]
  },
  {
   "cell_type": "code",
   "execution_count": null,
   "metadata": {},
   "outputs": [],
   "source": [
    "import pandas as pd\n",
    "import numpy as np\n",
    "from sklearn.model_selection import train_test_split, cross_val_score, StratifiedKFold\n",
    "from sklearn.metrics import accuracy_score\n",
    "from sklearn.ensemble import BaggingClassifier\n",
    "from sklearn.tree import DecisionTreeClassifier\n",
    "from sklearn.svm import SVC\n",
    "from sklearn.naive_bayes import GaussianNB\n",
    "from sklearn.neighbors import KNeighborsClassifier\n"
   ]
  },
  {
   "cell_type": "code",
   "execution_count": null,
   "metadata": {},
   "outputs": [],
   "source": [
    "# Carregar os dados\n",
    "## {'RMS','Mean','Peak1','Peak2','Peak3','PeakLocs1','PeakLocs2','PeakLocs3','FalutID'};\n",
    "data = pd.read_csv(\"../data/extracted_features/features_like_artigo.csv\", delimiter=';' ,names=['FalutID', 'RMS','Mean','Peak1','Peak2','Peak3','PeakLocs1','PeakLocs2','PeakLocs3', 'Nada'])\n",
    "X = data.iloc[:, 1:-1]                # All column except the last one\n",
    "#X = X.drop(columns='Nada') # Remove the mean and median column\n",
    "y = data.iloc[:, 0]                  # First Column"
   ]
  },
  {
   "cell_type": "markdown",
   "metadata": {},
   "source": [
    "## Bagged Trees Ensemble"
   ]
  },
  {
   "cell_type": "code",
   "execution_count": null,
   "metadata": {},
   "outputs": [],
   "source": [
    "# Criar o classificador base (uma única árvore de decisão)\n",
    "base_classifier = DecisionTreeClassifier()\n",
    "\n",
    "# Criar o classificador Bagged Trees Ensemble\n",
    "bagged_classifier = BaggingClassifier(base_estimator=base_classifier, n_estimators=10, random_state=42)\n",
    "\n",
    "# Realizar a validação cruzada com k = 5\n",
    "skf = StratifiedKFold(n_splits=5, shuffle=True)\n",
    "bgtree_scores = cross_val_score(bagged_classifier, X, y, cv=skf)\n",
    "\n",
    "print(\"Acurácia em cada fold :\", bgtree_scores)\n",
    "print(\"Acurácia média        :\", bgtree_scores.mean())"
   ]
  },
  {
   "cell_type": "markdown",
   "metadata": {},
   "source": [
    "## Quadratic SVM"
   ]
  },
  {
   "cell_type": "code",
   "execution_count": null,
   "metadata": {},
   "outputs": [],
   "source": [
    "# Criar o classificador SVM Quadrático\n",
    "svm_classifier = SVC(kernel='poly', degree=2)  # degree=2 para o kernel quadrático\n",
    "\n",
    "# Realizar a validação cruzada com k = 5\n",
    "skf = StratifiedKFold(n_splits=5, shuffle=True)\n",
    "svm_cv_scores = cross_val_score(svm_classifier, X, y, cv=skf)\n",
    "\n",
    "# Imprimir as acurácias de cada fold e a acurácia média\n",
    "print(\"Acurácia em cada fold :\", svm_cv_scores)\n",
    "print(\"Acurácia média        :\", svm_cv_scores.mean())"
   ]
  },
  {
   "cell_type": "markdown",
   "metadata": {},
   "source": [
    "## Fine Decision Tree"
   ]
  },
  {
   "cell_type": "code",
   "execution_count": null,
   "metadata": {},
   "outputs": [],
   "source": [
    "# Criar o classificador Fine Decision Tree\n",
    "fine_tree_classifier = DecisionTreeClassifier()\n",
    "\n",
    "# Realizar a validação cruzada com k = 5\n",
    "skf = StratifiedKFold(n_splits=5, shuffle=True)\n",
    "fdtree_cv_scores = cross_val_score(fine_tree_classifier, X, y, cv=skf)\n",
    "\n",
    "# Imprimir as acurácias de cada fold e a acurácia média\n",
    "print(\"Acurácia em cada fold :\", fdtree_cv_scores)\n",
    "print(\"Acurácia média        :\", fdtree_cv_scores.mean())"
   ]
  },
  {
   "cell_type": "markdown",
   "metadata": {},
   "source": [
    "## Naïve Bayes"
   ]
  },
  {
   "cell_type": "code",
   "execution_count": null,
   "metadata": {},
   "outputs": [],
   "source": [
    "# Criar o classificador Naïve Bayes\n",
    "naive_bayes_classifier = GaussianNB()\n",
    "\n",
    "# Realizar a validação cruzada com k = 5\n",
    "skf = StratifiedKFold(n_splits=5, shuffle=True)\n",
    "nb_cv_scores = cross_val_score(naive_bayes_classifier, X, y, cv=skf)\n",
    "\n",
    "# Imprimir as acurácias de cada fold e a acurácia média\n",
    "print(\"Acurácia em cada fold :\", nb_cv_scores)\n",
    "print(\"Acurácia média        :\", nb_cv_scores.mean())"
   ]
  },
  {
   "cell_type": "markdown",
   "metadata": {},
   "source": [
    "## KNN"
   ]
  },
  {
   "cell_type": "code",
   "execution_count": null,
   "metadata": {},
   "outputs": [],
   "source": [
    "# Criar o classificador KNN\n",
    "knn_classifier = KNeighborsClassifier(n_neighbors=5)  # Número de vizinhos = 3 (pode ser ajustado)\n",
    "\n",
    "# # Realizar a validação cruzada com k = 5\n",
    "skf = StratifiedKFold(n_splits=5, shuffle=True)\n",
    "knn_cv_scores = cross_val_score(knn_classifier, X, y, cv=skf)\n",
    "\n",
    "# Imprimir as acurácias de cada fold e a acurácia média\n",
    "print(\"Acurácia em cada fold :\", knn_cv_scores)\n",
    "print(\"Acurácia média        :\", knn_cv_scores.mean())"
   ]
  },
  {
   "cell_type": "code",
   "execution_count": null,
   "metadata": {},
   "outputs": [],
   "source": [
    "# Resumo\n",
    "print(f\"Bagged Trees Ensemble: {bgtree_scores.mean()}\")\n",
    "print(f\"Quadratic SVM:         {svm_cv_scores.mean()}\")\n",
    "print(f\"Fine Decision Tree:   {fdtree_cv_scores.mean()}\")\n",
    "print(f\"Naïve Bayes :          {nb_cv_scores.mean()}\")\n",
    "print(f\"KNeighbors (KNN) :     {knn_cv_scores.mean()}\")"
   ]
  }
 ],
 "metadata": {
  "kernelspec": {
   "display_name": "Kernel TG",
   "language": "python",
   "name": "projeto-tg"
  },
  "language_info": {
   "codemirror_mode": {
    "name": "ipython",
    "version": 3
   },
   "file_extension": ".py",
   "mimetype": "text/x-python",
   "name": "python",
   "nbconvert_exporter": "python",
   "pygments_lexer": "ipython3",
   "version": "3.10.12"
  },
  "orig_nbformat": 4
 },
 "nbformat": 4,
 "nbformat_minor": 2
}
