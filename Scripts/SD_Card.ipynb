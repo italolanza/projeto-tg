{
 "cells": [
  {
   "cell_type": "markdown",
   "metadata": {},
   "source": [
    "# TrainClassifier"
   ]
  },
  {
   "cell_type": "markdown",
   "metadata": {},
   "source": [
    "+ Faz o treinamento e testa acuracia dos classificadores utilizando um arquivo csv (SDCard.txt) que contem as features extraidas dos audios.\n",
    "+ Classificadores utilizados:\n",
    "    + `Bagged Trees Ensemble`\n",
    "    + `Quadratic SVM`\n",
    "    + `Fine Decision Tree`\n",
    "    + `Naïve Bayes`\n",
    "    + `KNeighbors (KNN)`"
   ]
  },
  {
   "cell_type": "code",
   "execution_count": 7,
   "metadata": {},
   "outputs": [],
   "source": [
    "import pandas as pd\n",
    "import numpy as np\n",
    "from sklearn.model_selection import train_test_split, cross_val_score, StratifiedKFold\n",
    "from sklearn.metrics import accuracy_score\n",
    "from sklearn.ensemble import BaggingClassifier\n",
    "from sklearn.tree import DecisionTreeClassifier\n",
    "from sklearn.svm import SVC\n",
    "from sklearn.naive_bayes import GaussianNB\n",
    "from sklearn.neighbors import KNeighborsClassifier\n"
   ]
  },
  {
   "cell_type": "code",
   "execution_count": 8,
   "metadata": {},
   "outputs": [],
   "source": [
    "# Carregar os dados\n",
    "## {'RMS','Mean','Peak1','Peak2','Peak3','PeakLocs1','PeakLocs2','PeakLocs3','FalutID'};\n",
    "data = pd.read_csv(\"./SDcard.txt\", delimiter=';' ,names=['FalutID', 'RMS','Mean','Peak1','Peak2','Peak3','PeakLocs1','PeakLocs2','PeakLocs3', 'Nada'])\n",
    "X = data.iloc[:, 1:-1]                # All column except the last one\n",
    "#X = X.drop(columns='Nada') # Remove the mean and median column\n",
    "y = data.iloc[:, 0]                  # First Column"
   ]
  },
  {
   "cell_type": "markdown",
   "metadata": {},
   "source": [
    "## Bagged Trees Ensemble"
   ]
  },
  {
   "cell_type": "code",
   "execution_count": 15,
   "metadata": {},
   "outputs": [
    {
     "name": "stdout",
     "output_type": "stream",
     "text": [
      "Acurácia em cada fold : [0.96703297 0.95054945 0.97802198 0.96153846 0.94475138]\n",
      "Acurácia média        : 0.9603788476716654\n"
     ]
    },
    {
     "name": "stderr",
     "output_type": "stream",
     "text": [
      "/home/dev/anaconda3/envs/homl3/lib/python3.10/site-packages/sklearn/ensemble/_base.py:156: FutureWarning: `base_estimator` was renamed to `estimator` in version 1.2 and will be removed in 1.4.\n",
      "  warnings.warn(\n",
      "/home/dev/anaconda3/envs/homl3/lib/python3.10/site-packages/sklearn/ensemble/_base.py:156: FutureWarning: `base_estimator` was renamed to `estimator` in version 1.2 and will be removed in 1.4.\n",
      "  warnings.warn(\n",
      "/home/dev/anaconda3/envs/homl3/lib/python3.10/site-packages/sklearn/ensemble/_base.py:156: FutureWarning: `base_estimator` was renamed to `estimator` in version 1.2 and will be removed in 1.4.\n",
      "  warnings.warn(\n",
      "/home/dev/anaconda3/envs/homl3/lib/python3.10/site-packages/sklearn/ensemble/_base.py:156: FutureWarning: `base_estimator` was renamed to `estimator` in version 1.2 and will be removed in 1.4.\n",
      "  warnings.warn(\n",
      "/home/dev/anaconda3/envs/homl3/lib/python3.10/site-packages/sklearn/ensemble/_base.py:156: FutureWarning: `base_estimator` was renamed to `estimator` in version 1.2 and will be removed in 1.4.\n",
      "  warnings.warn(\n"
     ]
    }
   ],
   "source": [
    "# Criar o classificador base (uma única árvore de decisão)\n",
    "base_classifier = DecisionTreeClassifier()\n",
    "\n",
    "# Criar o classificador Bagged Trees Ensemble\n",
    "bagged_classifier = BaggingClassifier(base_estimator=base_classifier, n_estimators=10, random_state=42)\n",
    "\n",
    "# Realizar a validação cruzada com k = 5\n",
    "skf = StratifiedKFold(n_splits=5, shuffle=True)\n",
    "bgtree_scores = cross_val_score(bagged_classifier, X, y, cv=skf)\n",
    "\n",
    "print(\"Acurácia em cada fold :\", bgtree_scores)\n",
    "print(\"Acurácia média        :\", bgtree_scores.mean())"
   ]
  },
  {
   "cell_type": "markdown",
   "metadata": {},
   "source": [
    "## Quadratic SVM"
   ]
  },
  {
   "cell_type": "code",
   "execution_count": 16,
   "metadata": {},
   "outputs": [
    {
     "name": "stdout",
     "output_type": "stream",
     "text": [
      "Acurácia em cada fold : [0.54385965 0.55947137 0.54185022 0.55506608]\n",
      "Acurácia média        : 0.5500618285802612\n"
     ]
    }
   ],
   "source": [
    "# Criar o classificador SVM Quadrático\n",
    "svm_classifier = SVC(kernel='poly', degree=2)  # degree=2 para o kernel quadrático\n",
    "\n",
    "# Realizar a validação cruzada com k = 5\n",
    "skf = StratifiedKFold(n_splits=5, shuffle=True)\n",
    "svm_cv_scores = cross_val_score(svm_classifier, X, y, cv=skf)\n",
    "\n",
    "# Imprimir as acurácias de cada fold e a acurácia média\n",
    "print(\"Acurácia em cada fold :\", svm_cv_scores)\n",
    "print(\"Acurácia média        :\", svm_cv_scores.mean())"
   ]
  },
  {
   "cell_type": "markdown",
   "metadata": {},
   "source": [
    "## Fine Decision Tree"
   ]
  },
  {
   "cell_type": "code",
   "execution_count": 11,
   "metadata": {},
   "outputs": [
    {
     "name": "stdout",
     "output_type": "stream",
     "text": [
      "Acurácia em cada fold : [0.94505495 0.98351648 0.94505495 0.96703297 0.95027624]\n",
      "Acurácia média        : 0.9581871167506526\n"
     ]
    }
   ],
   "source": [
    "# Criar o classificador Fine Decision Tree\n",
    "fine_tree_classifier = DecisionTreeClassifier()\n",
    "\n",
    "# Realizar a validação cruzada com k = 5\n",
    "skf = StratifiedKFold(n_splits=5, shuffle=True)\n",
    "fdtree_cv_scores = cross_val_score(fine_tree_classifier, X, y, cv=skf)\n",
    "\n",
    "# Imprimir as acurácias de cada fold e a acurácia média\n",
    "print(\"Acurácia em cada fold :\", fdtree_cv_scores)\n",
    "print(\"Acurácia média        :\", fdtree_cv_scores.mean())"
   ]
  },
  {
   "cell_type": "markdown",
   "metadata": {},
   "source": [
    "## Naïve Bayes"
   ]
  },
  {
   "cell_type": "code",
   "execution_count": 12,
   "metadata": {},
   "outputs": [
    {
     "name": "stdout",
     "output_type": "stream",
     "text": [
      "Acurácia em cada fold : [0.95604396 0.96703297 0.92307692 0.95054945 0.93370166]\n",
      "Acurácia média        : 0.946080990832372\n"
     ]
    }
   ],
   "source": [
    "# Criar o classificador Naïve Bayes\n",
    "naive_bayes_classifier = GaussianNB()\n",
    "\n",
    "# Realizar a validação cruzada com k = 5\n",
    "skf = StratifiedKFold(n_splits=5, shuffle=True)\n",
    "nb_cv_scores = cross_val_score(naive_bayes_classifier, X, y, cv=skf)\n",
    "\n",
    "# Imprimir as acurácias de cada fold e a acurácia média\n",
    "print(\"Acurácia em cada fold :\", nb_cv_scores)\n",
    "print(\"Acurácia média        :\", nb_cv_scores.mean())"
   ]
  },
  {
   "cell_type": "markdown",
   "metadata": {},
   "source": [
    "## KNN"
   ]
  },
  {
   "cell_type": "code",
   "execution_count": 13,
   "metadata": {},
   "outputs": [
    {
     "name": "stdout",
     "output_type": "stream",
     "text": [
      "Acurácia em cada fold : [0.91758242 0.94505495 0.93406593 0.91208791 0.93370166]\n",
      "Acurácia média        : 0.9284985732499544\n"
     ]
    }
   ],
   "source": [
    "# Criar o classificador KNN\n",
    "knn_classifier = KNeighborsClassifier(n_neighbors=5)  # Número de vizinhos = 3 (pode ser ajustado)\n",
    "\n",
    "# # Realizar a validação cruzada com k = 5\n",
    "skf = StratifiedKFold(n_splits=5, shuffle=True)\n",
    "knn_cv_scores = cross_val_score(knn_classifier, X, y, cv=skf)\n",
    "\n",
    "# Imprimir as acurácias de cada fold e a acurácia média\n",
    "print(\"Acurácia em cada fold :\", knn_cv_scores)\n",
    "print(\"Acurácia média        :\", knn_cv_scores.mean())"
   ]
  },
  {
   "cell_type": "code",
   "execution_count": 14,
   "metadata": {},
   "outputs": [
    {
     "name": "stdout",
     "output_type": "stream",
     "text": [
      "Bagged Trees Ensemble: 0.9592981604031326\n",
      "Quadratic SVM:         0.5599477870196102\n",
      "Fine Decision Tree :   0.9581871167506526\n",
      "Naïve Bayes :          0.946080990832372\n",
      "KNeighbors (KNN) :     0.9284985732499544\n"
     ]
    }
   ],
   "source": [
    "# Resumo\n",
    "print(f\"Bagged Trees Ensemble: {bgtree_scores.mean()}\")\n",
    "print(f\"Quadratic SVM:         {svm_cv_scores.mean()}\")\n",
    "print(f\"Fine Decision Tree:   {fdtree_cv_scores.mean()}\")\n",
    "print(f\"Naïve Bayes :          {nb_cv_scores.mean()}\")\n",
    "print(f\"KNeighbors (KNN) :     {knn_cv_scores.mean()}\")"
   ]
  }
 ],
 "metadata": {
  "kernelspec": {
   "display_name": "homl3",
   "language": "python",
   "name": "python3"
  },
  "language_info": {
   "codemirror_mode": {
    "name": "ipython",
    "version": 3
   },
   "file_extension": ".py",
   "mimetype": "text/x-python",
   "name": "python",
   "nbconvert_exporter": "python",
   "pygments_lexer": "ipython3",
   "version": "3.10.12"
  },
  "orig_nbformat": 4
 },
 "nbformat": 4,
 "nbformat_minor": 2
}
